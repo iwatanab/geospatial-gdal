{
 "cells": [
  {
   "cell_type": "markdown",
   "metadata": {},
   "source": [
    "## Retrieving Location Data using REST API"
   ]
  },
  {
   "cell_type": "code",
   "execution_count": 1,
   "metadata": {},
   "outputs": [],
   "source": [
    "# Package for sending HTTP REST API requests\n",
    "import requests"
   ]
  },
  {
   "cell_type": "code",
   "execution_count": 2,
   "metadata": {},
   "outputs": [],
   "source": [
    "# Send request for data\n",
    "request = requests.get(\"https://s3.amazonaws.com/geopy/geocaching.gpx\", stream=True)\n",
    "request\n",
    "\n",
    "# Save to disk\n",
    "with open('.\\\\data\\\\geocachingREST.gpx','wb') as save_file: # bad link 'REST' added to end of filename. Original file used below\n",
    "    for chunk in request.iter_content(1024):\n",
    "        save_file.write(chunk)"
   ]
  },
  {
   "cell_type": "code",
   "execution_count": 3,
   "metadata": {},
   "outputs": [
    {
     "data": {
      "text/plain": [
       "130"
      ]
     },
     "execution_count": 3,
     "metadata": {},
     "output_type": "execute_result"
    }
   ],
   "source": [
    "# Now let's open that geocaching.gpx\n",
    "import ogr\n",
    "import osr\n",
    "\n",
    "datasource = ogr.Open('C:\\\\Users\\\\Isa Watanabe\\\\repos\\\\geospatial-python\\\\data\\\\geocaching.gpx')\n",
    "layer = datasource.GetLayerByIndex(0)\n",
    "\n",
    "# Let's see how many features we have\n",
    "layer.GetFeatureCount()"
   ]
  },
  {
   "cell_type": "code",
   "execution_count": 4,
   "metadata": {},
   "outputs": [
    {
     "data": {
      "text/plain": [
       "'POINT (-78.90175 42.89648)'"
      ]
     },
     "execution_count": 4,
     "metadata": {},
     "output_type": "execute_result"
    }
   ],
   "source": [
    "# How do the feature geometries look like? Is it a MultiPolygon like the example prior to this section? Nope, it's a point.\n",
    "feature0 = layer.GetFeature(0)\n",
    "feature0.GetGeometryRef().ExportToWkt()"
   ]
  },
  {
   "cell_type": "code",
   "execution_count": 5,
   "metadata": {},
   "outputs": [],
   "source": [
    "# This datasource is also in degrees (longitude, latitude - the spatial reference system is a geographic coordinate system)\n",
    "# Let's use the osr module to transform out spatial reference system to a projected coordinate system.\n",
    "# Since we are working with POINT data we can use the TransformPoints() function (much faster than the Transform function\n",
    "# that we used for the MULTIPOLYGON features)\n",
    "import osr\n",
    "\n",
    "def transform_srs(datasource, src_epsg, dst_epsg):\n",
    "    src_srs = osr.SpatialReference()\n",
    "    src_srs.ImportFromEPSG(src_epsg) # Sets the srs attribute with the EPSG code provided\n",
    "    dst_srs = osr.SpatialReference()\n",
    "    dst_srs.ImportFromEPSG(dst_epsg)\n",
    "    transformation = osr.CoordinateTransformation(src_srs, dst_srs)\n",
    "    layer = datasource.GetLayerByIndex(0)\n",
    "    \n",
    "    points = []\n",
    "    for feature in layer:\n",
    "        geom = feature.GetGeometryRef()\n",
    "        point = geom.GetPoint() # Returns tuple of coordinates (x, y, z)\n",
    "        points.append(point)\n",
    "\n",
    "    transformed_points = transformation.TransformPoints(points)\n",
    "    return transformed_points"
   ]
  },
  {
   "cell_type": "code",
   "execution_count": 6,
   "metadata": {},
   "outputs": [],
   "source": [
    "mypoints = transform_srs(datasource, 4326, 3395) # A list of tuples"
   ]
  },
  {
   "cell_type": "markdown",
   "metadata": {},
   "source": [
    "## Get the point in this list closest to my current location"
   ]
  },
  {
   "cell_type": "code",
   "execution_count": null,
   "metadata": {},
   "outputs": [],
   "source": [
    "# We can simply use the Pythagoream theorem to calculate the distance between two points.\n",
    "import numpy as np \n",
    "import math\n",
    "def find_distance(pointslist, mylocation):\n",
    "    distances = []\n",
    "    for point in pointslist:\n",
    "        horizontal_distance = point[0] - mylocation[0]\n",
    "        vertical_distance = point[1] - mylocation[1]\n",
    "        distance = math.sqrt(horizontal_distance**2 + vertical_distance**2)\n",
    "        distances.append(distance)\n",
    "    return distances\n",
    "\n",
    "\n",
    "index_closest = np.argmin(find_distance( mypoints, (-73.0,43.0))) # get the index of the shortest distance\n",
    "# Using this index, get the coordinates of the closest location\n",
    "geom = layer[int(index_closest)].GetGeometryRef()\n",
    "geom.GetPoint()\n",
    "        "
   ]
  },
  {
   "cell_type": "markdown",
   "metadata": {},
   "source": [
    "### Side note: getting list of drivers/filetypes gdal can read"
   ]
  },
  {
   "cell_type": "code",
   "execution_count": 6,
   "metadata": {},
   "outputs": [
    {
     "name": "stdout",
     "output_type": "stream",
     "text": [
      "['VRT', 'DERIVED', 'GTiff', 'NITF', 'RPFTOC', 'ECRGTOC', 'HFA', 'SAR_CEOS', 'CEOS', 'JAXAPALSAR', 'GFF', 'ELAS', 'AIG', 'AAIGrid', 'GRASSASCIIGrid', 'SDTS', 'DTED', 'PNG', 'JPEG', 'MEM', 'JDEM', 'GIF', 'BIGGIF', 'ESAT', 'FITS', 'BSB', 'XPM', 'BMP', 'DIMAP', 'AirSAR', 'RS2', 'SAFE', 'PCIDSK', 'PCRaster', 'ILWIS', 'SGI', 'SRTMHGT', 'Leveller', 'Terragen', 'GMT', 'netCDF', 'HDF4', 'HDF4Image', 'ISIS3', 'ISIS2', 'PDS', 'PDS4', 'VICAR', 'TIL', 'ERS', 'JP2OpenJPEG', 'L1B', 'FIT', 'GRIB', 'JPEG2000', 'RMF', 'WCS', 'WMS', 'MSGN', 'RST', 'INGR', 'GSAG', 'GSBG', 'GS7BG', 'COSAR', 'TSX', 'COASP', 'R', 'MAP', 'KMLSUPEROVERLAY', 'WEBP', 'PDF', 'Rasterlite', 'MBTiles', 'PLMOSAIC', 'CALS', 'WMTS', 'SENTINEL2', 'MRF', 'PNM', 'DOQ1', 'DOQ2', 'PAux', 'MFF', 'MFF2', 'FujiBAS', 'GSC', 'FAST', 'BT', 'LAN', 'CPG', 'IDA', 'NDF', 'EIR', 'DIPEx', 'LCP', 'GTX', 'LOSLAS', 'NTv2', 'CTable2', 'ACE2', 'SNODAS', 'KRO', 'ROI_PAC', 'RRASTER', 'ARG', 'RIK', 'USGSDEM', 'GXF', 'BAG', 'HDF5', 'HDF5Image', 'NWT_GRD', 'NWT_GRC', 'ADRG', 'SRP', 'BLX', 'PostGISRaster', 'SAGA', 'XYZ', 'HF2', 'OZI', 'CTG', 'E00GRID', 'ZMap', 'NGSGEOID', 'IRIS', 'PRF', 'RDA', 'GNMFile', 'GNMDatabase', 'DB2ODBC', 'ESRI Shapefile', 'MapInfo File', 'UK .NTF', 'OGR_SDTS', 'S57', 'DGN', 'OGR_VRT', 'REC', 'Memory', 'BNA', 'CSV', 'GML', 'GPX', 'LIBKML', 'KML', 'GeoJSON', 'ESRIJSON', 'TopoJSON', 'OGR_GMT', 'GPKG', 'SQLite', 'ODBC', 'WAsP', 'PGeo', 'MSSQLSpatial', 'PostgreSQL', 'OpenFileGDB', 'XPlane', 'DXF', 'CAD', 'Geoconcept', 'GeoRSS', 'GPSTrackMaker', 'VFK', 'PGDUMP', 'OSM', 'GPSBabel', 'SUA', 'OpenAir', 'OGR_PDS', 'WFS', 'WFS3', 'HTF', 'AeronavFAA', 'Geomedia', 'EDIGEO', 'GFT', 'SVG', 'CouchDB', 'Cloudant', 'Idrisi', 'ARCGEN', 'SEGUKOOA', 'SEGY', 'XLS', 'ODS', 'XLSX', 'ElasticSearch', 'Walk', 'Carto', 'AmigoCloud', 'SXF', 'Selafin', 'JML', 'PLSCENES', 'CSW', 'VDV', 'MVT', 'TIGER', 'AVCBin', 'AVCE00', 'GenBin', 'ENVI', 'EHdr', 'ISCE', 'HTTP']\n"
     ]
    }
   ],
   "source": [
    "import gdal\n",
    "driver_list = []\n",
    "for i in range(gdal.GetDriverCount()):\n",
    "    driver = gdal.GetDriver(i)\n",
    "    driver_list.append(driver.GetDescription())\n",
    "print(driver_list)"
   ]
  },
  {
   "cell_type": "code",
   "execution_count": 42,
   "metadata": {},
   "outputs": [
    {
     "data": {
      "text/plain": [
       "['VRT',\n",
       " 'DERIVED',\n",
       " 'GTiff',\n",
       " 'NITF',\n",
       " 'RPFTOC',\n",
       " 'ECRGTOC',\n",
       " 'HFA',\n",
       " 'SAR_CEOS',\n",
       " 'CEOS',\n",
       " 'JAXAPALSAR',\n",
       " 'GFF',\n",
       " 'ELAS',\n",
       " 'AIG',\n",
       " 'AAIGrid',\n",
       " 'GRASSASCIIGrid',\n",
       " 'SDTS',\n",
       " 'DTED',\n",
       " 'PNG',\n",
       " 'JPEG',\n",
       " 'MEM',\n",
       " 'JDEM',\n",
       " 'GIF',\n",
       " 'BIGGIF',\n",
       " 'ESAT',\n",
       " 'FITS',\n",
       " 'BSB',\n",
       " 'XPM',\n",
       " 'BMP',\n",
       " 'DIMAP',\n",
       " 'AirSAR',\n",
       " 'RS2',\n",
       " 'SAFE',\n",
       " 'PCIDSK',\n",
       " 'PCRaster',\n",
       " 'ILWIS',\n",
       " 'SGI',\n",
       " 'SRTMHGT',\n",
       " 'Leveller',\n",
       " 'Terragen',\n",
       " 'GMT',\n",
       " 'netCDF',\n",
       " 'HDF4',\n",
       " 'HDF4Image',\n",
       " 'ISIS3',\n",
       " 'ISIS2',\n",
       " 'PDS',\n",
       " 'PDS4',\n",
       " 'VICAR',\n",
       " 'TIL',\n",
       " 'ERS',\n",
       " 'JP2OpenJPEG',\n",
       " 'L1B',\n",
       " 'FIT',\n",
       " 'GRIB',\n",
       " 'JPEG2000',\n",
       " 'RMF',\n",
       " 'WCS',\n",
       " 'WMS',\n",
       " 'MSGN',\n",
       " 'RST',\n",
       " 'INGR',\n",
       " 'GSAG',\n",
       " 'GSBG',\n",
       " 'GS7BG',\n",
       " 'COSAR',\n",
       " 'TSX',\n",
       " 'COASP',\n",
       " 'R',\n",
       " 'MAP',\n",
       " 'KMLSUPEROVERLAY',\n",
       " 'WEBP',\n",
       " 'PDF',\n",
       " 'Rasterlite',\n",
       " 'MBTiles',\n",
       " 'PLMOSAIC',\n",
       " 'CALS',\n",
       " 'WMTS',\n",
       " 'SENTINEL2',\n",
       " 'MRF',\n",
       " 'PNM',\n",
       " 'DOQ1',\n",
       " 'DOQ2',\n",
       " 'PAux',\n",
       " 'MFF',\n",
       " 'MFF2',\n",
       " 'FujiBAS',\n",
       " 'GSC',\n",
       " 'FAST',\n",
       " 'BT',\n",
       " 'LAN',\n",
       " 'CPG',\n",
       " 'IDA',\n",
       " 'NDF',\n",
       " 'EIR',\n",
       " 'DIPEx',\n",
       " 'LCP',\n",
       " 'GTX',\n",
       " 'LOSLAS',\n",
       " 'NTv2',\n",
       " 'CTable2',\n",
       " 'ACE2',\n",
       " 'SNODAS',\n",
       " 'KRO',\n",
       " 'ROI_PAC',\n",
       " 'RRASTER',\n",
       " 'ARG',\n",
       " 'RIK',\n",
       " 'USGSDEM',\n",
       " 'GXF',\n",
       " 'BAG',\n",
       " 'HDF5',\n",
       " 'HDF5Image',\n",
       " 'NWT_GRD',\n",
       " 'NWT_GRC',\n",
       " 'ADRG',\n",
       " 'SRP',\n",
       " 'BLX',\n",
       " 'PostGISRaster',\n",
       " 'SAGA',\n",
       " 'XYZ',\n",
       " 'HF2',\n",
       " 'OZI',\n",
       " 'CTG',\n",
       " 'E00GRID',\n",
       " 'ZMap',\n",
       " 'NGSGEOID',\n",
       " 'IRIS',\n",
       " 'PRF',\n",
       " 'RDA',\n",
       " 'GNMFile',\n",
       " 'GNMDatabase',\n",
       " 'DB2ODBC',\n",
       " 'ESRI Shapefile',\n",
       " 'MapInfo File',\n",
       " 'UK .NTF',\n",
       " 'OGR_SDTS',\n",
       " 'S57',\n",
       " 'DGN',\n",
       " 'OGR_VRT',\n",
       " 'REC',\n",
       " 'Memory',\n",
       " 'BNA',\n",
       " 'CSV',\n",
       " 'GML',\n",
       " 'GPX',\n",
       " 'LIBKML',\n",
       " 'KML',\n",
       " 'GeoJSON',\n",
       " 'ESRIJSON',\n",
       " 'TopoJSON',\n",
       " 'OGR_GMT',\n",
       " 'GPKG',\n",
       " 'SQLite',\n",
       " 'ODBC',\n",
       " 'WAsP',\n",
       " 'PGeo',\n",
       " 'MSSQLSpatial',\n",
       " 'PostgreSQL',\n",
       " 'OpenFileGDB',\n",
       " 'XPlane',\n",
       " 'DXF',\n",
       " 'CAD',\n",
       " 'Geoconcept',\n",
       " 'GeoRSS',\n",
       " 'GPSTrackMaker',\n",
       " 'VFK',\n",
       " 'PGDUMP',\n",
       " 'OSM',\n",
       " 'GPSBabel',\n",
       " 'SUA',\n",
       " 'OpenAir',\n",
       " 'OGR_PDS',\n",
       " 'WFS',\n",
       " 'WFS3',\n",
       " 'HTF',\n",
       " 'AeronavFAA',\n",
       " 'Geomedia',\n",
       " 'EDIGEO',\n",
       " 'GFT',\n",
       " 'SVG',\n",
       " 'CouchDB',\n",
       " 'Cloudant',\n",
       " 'Idrisi',\n",
       " 'ARCGEN',\n",
       " 'SEGUKOOA',\n",
       " 'SEGY',\n",
       " 'XLS',\n",
       " 'ODS',\n",
       " 'XLSX',\n",
       " 'ElasticSearch',\n",
       " 'Walk',\n",
       " 'Carto',\n",
       " 'AmigoCloud',\n",
       " 'SXF',\n",
       " 'Selafin',\n",
       " 'JML',\n",
       " 'PLSCENES',\n",
       " 'CSW',\n",
       " 'VDV',\n",
       " 'MVT',\n",
       " 'TIGER',\n",
       " 'AVCBin',\n",
       " 'AVCE00',\n",
       " 'GenBin',\n",
       " 'ENVI',\n",
       " 'EHdr',\n",
       " 'ISCE',\n",
       " 'HTTP']"
      ]
     },
     "execution_count": 42,
     "metadata": {},
     "output_type": "execute_result"
    }
   ],
   "source": []
  },
  {
   "cell_type": "code",
   "execution_count": 32,
   "metadata": {},
   "outputs": [
    {
     "data": {
      "text/plain": [
       "1"
      ]
     },
     "execution_count": 32,
     "metadata": {},
     "output_type": "execute_result"
    }
   ],
   "source": [
    "a = (1,2,3)\n",
    "a[0]"
   ]
  },
  {
   "cell_type": "code",
   "execution_count": null,
   "metadata": {},
   "outputs": [],
   "source": []
  }
 ],
 "metadata": {
  "kernelspec": {
   "display_name": "Python 3",
   "language": "python",
   "name": "python3"
  },
  "language_info": {
   "codemirror_mode": {
    "name": "ipython",
    "version": 3
   },
   "file_extension": ".py",
   "mimetype": "text/x-python",
   "name": "python",
   "nbconvert_exporter": "python",
   "pygments_lexer": "ipython3",
   "version": "3.7.0"
  }
 },
 "nbformat": 4,
 "nbformat_minor": 2
}
