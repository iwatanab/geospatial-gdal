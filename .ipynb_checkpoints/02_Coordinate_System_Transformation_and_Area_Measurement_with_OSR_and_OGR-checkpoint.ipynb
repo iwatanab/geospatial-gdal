{
 "cells": [
  {
   "cell_type": "markdown",
   "metadata": {},
   "source": [
    "## Part 1: Coordinate System Transformation with OSR and OGR (part of GDAL)"
   ]
  },
  {
   "cell_type": "code",
   "execution_count": 1,
   "metadata": {},
   "outputs": [
    {
     "name": "stdout",
     "output_type": "stream",
     "text": [
      "246\n"
     ]
    }
   ],
   "source": [
    "import ogr\n",
    "\n",
    "datasource = ogr.Open('C:\\\\Users\\\\Isa Watanabe\\\\repos\\\\geospatial-python\\\\data\\\\world_borders_simple.shp')\n",
    "layer = datasource.GetLayerByIndex(0)\n",
    "print(layer.GetFeatureCount())"
   ]
  },
  {
   "cell_type": "code",
   "execution_count": 3,
   "metadata": {},
   "outputs": [],
   "source": [
    "# We want to find the area of each feature. However, this is not possible using a geographic coordinate system where distance\n",
    "# is expressed in longitude and latitude degrees. We need to convert the spatial reference to a projected coordinate system.\n",
    "# Let's define a feature that can convert coordinate systems:\n",
    "\n",
    "# We need to import osr, another part of the GDAL package. osr deals with coordinate systems\n",
    "import osr\n",
    "# EPSG codes are standardized names for coordinate systems\n",
    "def reproject(data, src_epsg, dst_epsg):\n",
    "    #PART 1\n",
    "    src_srs = osr.SpatialReference() #Initialize a spatial reference object. 'srs' is 'spatial reference system'\n",
    "    src_srs.ImportFromEPSG(src_epsg)\n",
    "    dst_srs = osr.SpatialReference()\n",
    "    dst_srs.ImportFromEPSG(dst_epsg)\n",
    "    # Create our transformation object\n",
    "    transformation = osr.CoordinateTransformation(src_srs, dst_srs)\n",
    "    layer = datasource.GetLayerByIndex(0)\n",
    "    \n",
    "    #PART 2\n",
    "    geoms = []\n",
    "    layer.ResetReading\n",
    "    for feature in layer:\n",
    "        geom = feature.GetGeometryRef().Clone() # When you use layer.GetFeature(0).Clone() you work with a copy of the\n",
    "        #feature (different) (OGRFeature * OGRFeature::Clone()) with fewer problems.\n",
    "        geom.Transform(transformation)\n",
    "        geoms.append(geom)\n",
    "    return geoms"
   ]
  },
  {
   "cell_type": "code",
   "execution_count": 4,
   "metadata": {},
   "outputs": [
    {
     "name": "stdout",
     "output_type": "stream",
     "text": [
      "These are the WKT measurements of our current feature:\n",
      " \t MULTIPOLYGON (((-61.686668 17.024441,-61.73806 16.989719,-61.82917 16.996944,-61.876114 17.016941,-61.880562 17.019722,-61.883614 17.023609,-61.885834 17.028053,-61.887222 17.033054,-61.891113 17.094166,-61.887222 17.105274,-61.884171 17.109722,-61.832779 17.163887,-61.826393 17.167221,-61.794449 17.16333,-61.784172 17.158333,-61.744171 17.137218,-61.674171 17.093609,-61.67028 17.090275,-61.668892 17.084999,-61.666389 17.04583,-61.667503 17.040554,-61.682503 17.027496,-61.686668 17.024441)),((-61.729172 17.608608,-61.731117 17.547222,-61.73278 17.541111,-61.738892 17.540554,-61.751945 17.549442,-61.815559 17.583885,-61.834724 17.588608,-61.839447 17.586666,-61.842781 17.582775,-61.847504 17.58083,-61.853058 17.583054,-61.856674 17.592499,-61.873894 17.688889,-61.875282 17.698608,-61.873062 17.703888,-61.850281 17.722775,-61.845558 17.724998,-61.839172 17.72472,-61.787224 17.700554,-61.783615 17.69722,-61.74334 17.653053,-61.74028 17.649166,-61.73806 17.644722,-61.731674 17.624996,-61.729172 17.608608)))\n",
      "\n",
      "These are the WKT measurements of our transformed feature:\n",
      " \t MULTIPOLYGON (((-6866928.47049372 1911166.90177988,-6872649.40176457 1907149.6621891,-6882791.72057074 1907985.51266421,-6888017.50274654 1910299.10863859,-6888512.65184159 1910620.88222925,-6888852.39892749 1911070.63285812,-6889099.52819706 1911584.84351706,-6889254.03965028 1912163.51885846,-6889687.18378895 1919236.17289271,-6889254.03965028 1920521.98319866,-6888914.40388387 1921036.8847171,-6883193.47261302 1927308.03821616,-6882482.58634481 1927694.1049093,-6878926.59653091 1927243.54005626,-6877782.56612403 1926664.91811367,-6873329.6751728 1924220.10471601,-6865537.31081728 1919171.69921244,-6865104.1666786 1918785.78722286,-6864949.65522539 1918175.10214532,-6864671.02253993 1913641.92555843,-6864795.03245267 1913031.38766447,-6866464.82481457 1911520.39294354,-6866928.47049372 1911166.90177988)),((-6871659.9941304 1978867.96690784,-6871876.51053999 1971743.44279678,-6872061.63485318 1971034.32751883,-6872742.01958091 1970969.69491276,-6874195.07289423 1972001.05571525,-6881276.55098156 1975998.29495841,-6883409.98902261 1976546.47686977,-6883935.75097763 1976321.07404096,-6884306.89015993 1975869.46328665,-6884832.65211495 1975643.71962996,-6885450.92056681 1975901.84522612,-6885853.45184553 1976998.10237535,-6887770.37347699 1988189.16733697,-6887924.8849302 1989317.89872626,-6887677.75566065 1989931.12577392,-6885141.78634088 1992124.83954202,-6884616.02438587 1992383.05504503,-6883905.13811766 1992350.76341031,-6878122.31320992 1989543.90793438,-6877720.56116765 1989156.6973733,-6873237.16867595 1984027.83074033,-6872896.53103413 1983576.51619151,-6872649.40176457 1983060.54117243,-6871938.51549636 1980770.38988769,-6871659.9941304 1978867.96690784)))\n"
     ]
    }
   ],
   "source": [
    "# Let's try this function\n",
    "\n",
    "# First, let's see the measurements of the first feature in our feature list. \n",
    "# Then let's transform the spatial reference system of that feature and see how the measurements change.\n",
    "datasource = ogr.Open('C:\\\\Users\\\\Isa Watanabe\\\\repos\\\\geospatial-python\\\\data\\\\world_borders_simple.shp')\n",
    "layer = datasource.GetLayerByIndex(0)\n",
    "feature = layer.GetFeature(0)\n",
    "# To get the measurements of our feature let's get it's WKT string. \n",
    "# This is a standard used to describe various geometry related structures.\n",
    "print(\"These are the WKT measurements of our current feature:\\n \\t {}\".format(feature.GetGeometryRef().ExportToWkt()))\n",
    "\n",
    "# Now let's tranform this feature (and all other features in the layer) and grab it's measurements again:\n",
    "# Spatial reference 4326 described here: https://epsg.io/4326. It sis a popular World Geodetic System 1984, used in GPS\n",
    "# Spatial reference 3395 described here: https://epsg.io/3395. It is the popular 'World Mercator' reference system measured\n",
    "# in meters.\n",
    "# Note: we are using the generic term 'spatial reference system' to refer to both geographic coordinate systems (sphere, degrees)\n",
    "# and projected coordinate systems (flat/2d plane, meters/feet/miles/km).\n",
    "transformed_feature = reproject(datasource, 4326, 3395)[0] #Grab the first feature in our list of transformed features.\n",
    "print(\"\\nThese are the WKT measurements of our transformed feature:\\n \\t {}\".format(transformed_feature.ExportToWkt()))"
   ]
  },
  {
   "cell_type": "markdown",
   "metadata": {},
   "source": [
    "## Part 2: Feature Area Measurement with OSR and OGR (part of GDAL)\n",
    "#### Now that we have converted our spatial reference from a geographic coordinate system to a projected coordinate system, we can measure the area of our features."
   ]
  },
  {
   "cell_type": "code",
   "execution_count": 5,
   "metadata": {},
   "outputs": [
    {
     "data": {
      "text/plain": [
       "<osgeo.ogr.Geometry; proxy of <Swig Object of type 'OGRGeometryShadow *' at 0x0000027C9027F5D0> >"
      ]
     },
     "execution_count": 5,
     "metadata": {},
     "output_type": "execute_result"
    }
   ],
   "source": [
    "# transformed_feature is an instance of the geometry class. This is the kind of object we will be using for our area calculation.\n",
    "transformed_feature"
   ]
  },
  {
   "cell_type": "code",
   "execution_count": 6,
   "metadata": {},
   "outputs": [
    {
     "data": {
      "text/plain": [
       "595700227.1306477"
      ]
     },
     "execution_count": 6,
     "metadata": {},
     "output_type": "execute_result"
    }
   ],
   "source": [
    "#The area of a geometry is a method of the object\n",
    "transformed_feature.Area()"
   ]
  },
  {
   "cell_type": "code",
   "execution_count": 7,
   "metadata": {},
   "outputs": [],
   "source": [
    "# Let's create a function that returns the areas of a the features in a layer in units of meters squared\n",
    "def calculate_areas(geometries, unity='km2'):\n",
    "    #Part 1\n",
    "    conversion_factor = {\n",
    "        'sqmi': 2589988.11,\n",
    "        'km2': 1000000,\n",
    "        'm': 1\n",
    "    }\n",
    "    #Part 2\n",
    "    if unity not in conversion_factor:\n",
    "        raise ValueError(\"This unity is not defined: {}\".format(unity))\n",
    "    #Part 3\n",
    "    areas = []\n",
    "    for geom in geometries:\n",
    "        area = geom.Area()\n",
    "        areas.append(area / conversion_factor[unity])\n",
    "    return areas"
   ]
  },
  {
   "cell_type": "code",
   "execution_count": 3,
   "metadata": {},
   "outputs": [],
   "source": [
    "# Let's test this function\n",
    "#First let's get our list of geometries. Layers have multiple features, each feature has it's geometry/shape.\n",
    "geomlist = []\n",
    "\n",
    "for feature in layer:\n",
    "    geomlist.append(feature.GetGeometryRef())"
   ]
  },
  {
   "cell_type": "code",
   "execution_count": null,
   "metadata": {},
   "outputs": [],
   "source": [
    "#Let's input this list to our calculate_areas function\n",
    "calculate_areas(geomlist, unity='sqmi')"
   ]
  }
 ],
 "metadata": {
  "kernelspec": {
   "display_name": "Python 3",
   "language": "python",
   "name": "python3"
  },
  "language_info": {
   "codemirror_mode": {
    "name": "ipython",
    "version": 3
   },
   "file_extension": ".py",
   "mimetype": "text/x-python",
   "name": "python",
   "nbconvert_exporter": "python",
   "pygments_lexer": "ipython3",
   "version": "3.7.0"
  }
 },
 "nbformat": 4,
 "nbformat_minor": 2
}
