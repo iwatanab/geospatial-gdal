{
 "cells": [
  {
   "cell_type": "markdown",
   "metadata": {},
   "source": [
    "## Combining Geographic Data Sources"
   ]
  },
  {
   "cell_type": "markdown",
   "metadata": {},
   "source": [
    "#### Geographic data file-structure\n",
    "GeoJSON files, ESRI shapefiles, and GPX files, Georaphy Markup files (XML-based standard by OpenGIS), SpatialLite files (spatial extension to SpatialLite), and Digital Line Graph (DLG) files share common characteristics, including feature-type, and coordinates.\n",
    "Since GeoJSON files can be viewed as a textfile, an example GeoJSON file has been included below to illustrate the components of geographic data file."
   ]
  },
  {
   "cell_type": "code",
   "execution_count": 1,
   "metadata": {},
   "outputs": [
    {
     "ename": "SyntaxError",
     "evalue": "unexpected EOF while parsing (<ipython-input-1-ad847efa350b>, line 3)",
     "output_type": "error",
     "traceback": [
      "\u001b[1;36m  File \u001b[1;32m\"<ipython-input-1-ad847efa350b>\"\u001b[1;36m, line \u001b[1;32m3\u001b[0m\n\u001b[1;33m    \"geometry\"\u001b[0m\n\u001b[1;37m              ^\u001b[0m\n\u001b[1;31mSyntaxError\u001b[0m\u001b[1;31m:\u001b[0m unexpected EOF while parsing\n"
     ]
    }
   ],
   "source": [
    "{\"type\": \"FeatureCollection\",\n",
    "    \"features\": [\n",
    "        \"geometry\": {\n",
    "            \"type\": \"Point\",\n",
    "            \"coordinates\": [102.0, 0.5]},\n",
    "        \"properties\": {\"prop0\": \"value0\"}\n",
    "        },\n",
    "        \"geometry\": {\n",
    "            \"type\": \"LineString\",\n",
    "            \"coordinates\": [102.0, 0.0], [103.0, 1.0], [104.0, 0.0]},\n",
    "        \"properties\": {\n",
    "            \"prop0\": \"value0\",\n",
    "            \"prop1\": 0.0}\n",
    "        },\n",
    "        \"geometry\": {\n",
    "            \"type\": \"Polygon\",\n",
    "            \"coordinates\": [100.0, 0.0], [101.0, 0.0], [101.0, 1.0], [100.0, 1.0], [100.0, 0.0]}, #Note the final point loops\n",
    "            # back to the first point, completing the polygon.\n",
    "        \"properties\": {\"prop0\": \"value0\"}\n",
    "        }]\n",
    "}"
   ]
  },
  {
   "cell_type": "code",
   "execution_count": null,
   "metadata": {},
   "outputs": [],
   "source": []
  }
 ],
 "metadata": {
  "kernelspec": {
   "display_name": "Python 3",
   "language": "python",
   "name": "python3"
  },
  "language_info": {
   "codemirror_mode": {
    "name": "ipython",
    "version": 3
   },
   "file_extension": ".py",
   "mimetype": "text/x-python",
   "name": "python",
   "nbconvert_exporter": "python",
   "pygments_lexer": "ipython3",
   "version": "3.7.0"
  }
 },
 "nbformat": 4,
 "nbformat_minor": 2
}
